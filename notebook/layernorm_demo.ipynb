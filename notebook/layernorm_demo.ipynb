{
 "cells": [
  {
   "cell_type": "markdown",
   "id": "2361e05e",
   "metadata": {},
   "source": [
    "# LayerNorm from Scratch"
   ]
  },
  {
   "cell_type": "markdown",
   "id": "ec73343f",
   "metadata": {},
   "source": [
    "In this notebook I want to dive into using and visualizing the LayerNorm implementation that I wrote. Just like what I did with BatchNorm, I want to\n",
    "- compare it to PyTorch’s implementation\n",
    "- visualize its effect on feature distributions"
   ]
  },
  {
   "cell_type": "markdown",
   "id": "6f358e5f",
   "metadata": {},
   "source": [
    "First, I'm going to manually fix the path so that we run all the code from the root of the repository."
   ]
  },
  {
   "cell_type": "code",
   "execution_count": 1,
   "id": "13d7e4f8",
   "metadata": {},
   "outputs": [],
   "source": [
    "import sys\n",
    "import os\n",
    "sys.path.append(os.path.abspath(\"..\"))  # layernorm/ is up one level"
   ]
  },
  {
   "cell_type": "markdown",
   "id": "466d09b0",
   "metadata": {},
   "source": [
    "Now we can setup with our imports."
   ]
  },
  {
   "cell_type": "code",
   "execution_count": 2,
   "id": "03626bbc",
   "metadata": {},
   "outputs": [],
   "source": [
    "import torch\n",
    "import torch.nn as nn\n",
    "import matplotlib.pyplot as plt\n",
    "\n",
    "from layernorm.layers import LayerNorm"
   ]
  },
  {
   "cell_type": "markdown",
   "id": "30a2664f",
   "metadata": {},
   "source": [
    "I wrote a test suite before I started implementing LayerNorm for good practice. I usually run the tests in the command line but I'm going to use the python workaround for that."
   ]
  },
  {
   "cell_type": "code",
   "execution_count": 5,
   "id": "1dc3afe3",
   "metadata": {},
   "outputs": [
    {
     "name": "stdout",
     "output_type": "stream",
     "text": [
      "\u001b[1m============================= test session starts ==============================\u001b[0m\n",
      "platform darwin -- Python 3.13.2, pytest-8.4.1, pluggy-1.6.0\n",
      "rootdir: /Users/akhilvreddy/Documents/layernorm-reimplementation\n",
      "configfile: pytest.ini\n",
      "collected 3 items\n",
      "\n",
      "test_layernorm.py \u001b[32m.\u001b[0m\u001b[32m.\u001b[0m\u001b[32m.\u001b[0m\u001b[32m                                                    [100%]\u001b[0m\n",
      "\n",
      "\u001b[32m============================== \u001b[32m\u001b[1m3 passed\u001b[0m\u001b[32m in 0.48s\u001b[0m\u001b[32m ===============================\u001b[0m\n",
      "\n",
      "\n",
      "\u001b[1m============================= test session starts ==============================\u001b[0m\n",
      "platform darwin -- Python 3.13.2, pytest-8.4.1, pluggy-1.6.0\n",
      "rootdir: /Users/akhilvreddy/Documents/layernorm-reimplementation\n",
      "configfile: pytest.ini\n",
      "collected 2 items\n",
      "\n",
      "test_utils.py \u001b[32m.\u001b[0m\u001b[32m.\u001b[0m\u001b[32m                                                         [100%]\u001b[0m\n",
      "\n",
      "\u001b[32m============================== \u001b[32m\u001b[1m2 passed\u001b[0m\u001b[32m in 0.47s\u001b[0m\u001b[32m ===============================\u001b[0m\n",
      "\n",
      "\n"
     ]
    }
   ],
   "source": [
    "import subprocess\n",
    "import os\n",
    "\n",
    "os.chdir(\"../tests\")\n",
    "\n",
    "result = subprocess.run([\"pytest\", \"test_layernorm.py\"], capture_output=True, text=True)\n",
    "\n",
    "print(result.stdout)\n",
    "print(result.stderr)\n",
    "\n",
    "result = subprocess.run([\"pytest\", \"test_utils.py\"], capture_output=True, text=True)\n",
    "\n",
    "print(result.stdout)\n",
    "print(result.stderr)"
   ]
  },
  {
   "cell_type": "markdown",
   "id": "d3b4af8d",
   "metadata": {},
   "source": [
    "Okay, so that's promising. First, our utils functions passing means that it is computing the mean and variance across a feature properly. \n",
    "\n",
    "Next, our layernorm functions passing means that our tensor shapes are sturdy after the forward pass. "
   ]
  },
  {
   "cell_type": "markdown",
   "id": "cef49671",
   "metadata": {},
   "source": [
    "We can start by generating some toy data."
   ]
  },
  {
   "cell_type": "code",
   "execution_count": 6,
   "id": "b77fa353",
   "metadata": {},
   "outputs": [
    {
     "name": "stdout",
     "output_type": "stream",
     "text": [
      "Original Input:\n",
      " tensor([[107.6872,  99.1163,  90.2720, 102.4923,  95.7474,  92.1404,  85.0846,\n",
      "          85.1257],\n",
      "        [126.0147, 106.7205,  92.8220, 106.6591,  96.4033, 114.6898,  87.7042,\n",
      "         112.8512],\n",
      "        [ 85.0728, 111.1094, 114.9505,  97.9527, 100.2561, 104.7603, 102.4607,\n",
      "          93.9358],\n",
      "        [108.0406,  95.2615,  83.1148,  94.8324, 114.3759,  91.4483,  84.5752,\n",
      "          88.2803],\n",
      "        [122.3765, 104.8232, 105.6186,  99.4626, 105.7946,  97.1177,  99.1660,\n",
      "         100.9181]])\n"
     ]
    }
   ],
   "source": [
    "# a batch of 5 samples, 8 features each\n",
    "x = torch.randn(5, 8) * 10 + 100  # shifted and scaled input\n",
    "print(\"Original Input:\\n\", x)"
   ]
  },
  {
   "cell_type": "markdown",
   "id": "aaed9e6a",
   "metadata": {},
   "source": [
    "As we can see, our input feature values are huge. I set it up like this (centered around 100, deviation of 10) on purpose so that the effects of LayerNorm will be very pronounced."
   ]
  },
  {
   "cell_type": "markdown",
   "id": "d465ab32",
   "metadata": {},
   "source": [
    "Let's compare this to PyTorch's native implementation first."
   ]
  },
  {
   "cell_type": "code",
   "execution_count": 9,
   "id": "ab1e5dd1",
   "metadata": {},
   "outputs": [
    {
     "name": "stdout",
     "output_type": "stream",
     "text": [
      "My LayerNorm Output:\n",
      " tensor([[ 1.7111,  0.5812, -0.5849,  1.0262,  0.1370, -0.3385, -1.2688, -1.2633],\n",
      "        [ 1.7334,  0.1045, -1.0689,  0.0993, -0.7666,  0.7773, -1.5010,  0.6221],\n",
      "        [-1.8362,  1.1078,  1.5421, -0.3799, -0.1194,  0.3899,  0.1298, -0.8341],\n",
      "        [ 1.2635,  0.0262, -1.1500, -0.0154,  1.8770, -0.3430, -1.0085, -0.6498],\n",
      "        [ 2.4126,  0.0555,  0.1623, -0.6643,  0.1860, -0.9791, -0.7041, -0.4688]],\n",
      "       grad_fn=<AddBackward0>)\n",
      "PyTorch LayerNorm Output:\n",
      " tensor([[ 1.7111,  0.5812, -0.5849,  1.0262,  0.1370, -0.3385, -1.2688, -1.2633],\n",
      "        [ 1.7334,  0.1045, -1.0689,  0.0993, -0.7666,  0.7773, -1.5010,  0.6221],\n",
      "        [-1.8362,  1.1078,  1.5421, -0.3799, -0.1194,  0.3899,  0.1298, -0.8341],\n",
      "        [ 1.2635,  0.0262, -1.1500, -0.0154,  1.8770, -0.3430, -1.0085, -0.6498],\n",
      "        [ 2.4126,  0.0555,  0.1623, -0.6643,  0.1860, -0.9791, -0.7041, -0.4688]],\n",
      "       grad_fn=<NativeLayerNormBackward0>)\n",
      "Difference: tensor(2.3842e-07, grad_fn=<MaxBackward1>)\n"
     ]
    }
   ],
   "source": [
    "my_ln = LayerNorm(8)\n",
    "torch_ln = nn.LayerNorm(8)\n",
    "\n",
    "# match weights for fair comparison\n",
    "torch_ln.weight.data = my_ln.gamma.data.clone()\n",
    "torch_ln.bias.data = my_ln.beta.data.clone()\n",
    "\n",
    "out_my = my_ln(x)\n",
    "out_torch = torch_ln(x)\n",
    "\n",
    "print(\"My LayerNorm Output:\\n\", out_my)\n",
    "print(\"PyTorch LayerNorm Output:\\n\", out_torch)\n",
    "\n",
    "print(\"Difference:\", torch.abs(out_my - out_torch).max())"
   ]
  },
  {
   "cell_type": "code",
   "execution_count": 10,
   "id": "b42bdf6c",
   "metadata": {},
   "outputs": [
    {
     "name": "stdout",
     "output_type": "stream",
     "text": [
      "True\n"
     ]
    }
   ],
   "source": [
    "print(torch.allclose(out_my, out_torch, atol=1e-5))"
   ]
  },
  {
   "cell_type": "markdown",
   "id": "d01f6028",
   "metadata": {},
   "source": [
    "That tells us that our implementation is within 0.00001 of PyTorch's native implementation (2.3842e-07 to be exact). "
   ]
  },
  {
   "cell_type": "markdown",
   "id": "9e6040d8",
   "metadata": {},
   "source": [
    "Next, for all 8 features, I want to show how much they've moved after layernorm."
   ]
  },
  {
   "cell_type": "code",
   "execution_count": 11,
   "id": "8d1ec9cd",
   "metadata": {},
   "outputs": [
    {
     "data": {
      "image/png": "[encoded data removed]",
      "text/plain": [
       "<Figure size 1200x400 with 2 Axes>"
      ]
     },
     "metadata": {},
     "output_type": "display_data"
    }
   ],
   "source": [
    "def plot_feature_distributions(x_before, x_after, title):\n",
    "    plt.figure(figsize=(12, 4))\n",
    "    plt.subplot(1, 2, 1)\n",
    "    plt.title(\"Before Normalization\")\n",
    "    plt.boxplot(x_before.detach().numpy())\n",
    "    plt.grid()\n",
    "\n",
    "    plt.subplot(1, 2, 2)\n",
    "    plt.title(\"After Normalization\")\n",
    "    plt.boxplot(x_after.detach().numpy())\n",
    "    plt.grid()\n",
    "\n",
    "    plt.suptitle(title)\n",
    "    plt.show()\n",
    "\n",
    "plot_feature_distributions(x, out_my, title=\"Effect of LayerNorm\")"
   ]
  },
  {
   "cell_type": "markdown",
   "id": "72290c77",
   "metadata": {},
   "source": [
    "That's also promising. The distribution looks similar-ish but now the mean is centerd around 0 and variance is much lower. This is probably the most we want to push normalization."
   ]
  },
  {
   "cell_type": "markdown",
   "id": "63e3397b",
   "metadata": {},
   "source": [
    "So we see that our LayerNorm implementation is definitely working *per feature*. I want to see it in action next."
   ]
  },
  {
   "cell_type": "markdown",
   "id": "b78c06df",
   "metadata": {},
   "source": [
    "I'll' wrap up by training a simple MLP twice: with and without LayerNorm."
   ]
  },
  {
   "cell_type": "markdown",
   "id": "d9fee3a6",
   "metadata": {},
   "source": [
    "First, I'll create some dummy data."
   ]
  },
  {
   "cell_type": "code",
   "execution_count": 12,
   "id": "2dfa1ef4",
   "metadata": {},
   "outputs": [],
   "source": [
    "x = torch.randn(128, 16)\n",
    "true_w = torch.randn(16, 1)\n",
    "y = x @ true_w + torch.randn(128, 1) * 0.1"
   ]
  },
  {
   "cell_type": "markdown",
   "id": "1d7e216f",
   "metadata": {},
   "source": [
    "And then I'm going to create two independent classes."
   ]
  },
  {
   "cell_type": "code",
   "execution_count": 13,
   "id": "10b44324",
   "metadata": {},
   "outputs": [],
   "source": [
    "class MLPWithLN(nn.Module):\n",
    "    def __init__(self):\n",
    "        super().__init__()\n",
    "        self.fc1 = nn.Linear(16, 16)\n",
    "        self.ln = LayerNorm(16)\n",
    "        self.fc2 = nn.Linear(16, 1)\n",
    "\n",
    "    def forward(self, x):\n",
    "        x = self.fc1(x)\n",
    "        x = torch.relu(self.ln(x))\n",
    "        return self.fc2(x)"
   ]
  },
  {
   "cell_type": "code",
   "execution_count": 14,
   "id": "ed9f336c",
   "metadata": {},
   "outputs": [],
   "source": [
    "class MLPWithoutLN(nn.Module):\n",
    "    def __init__(self):\n",
    "        super().__init__()\n",
    "        self.fc1 = nn.Linear(16, 16)\n",
    "        self.fc2 = nn.Linear(16, 1)\n",
    "\n",
    "    def forward(self, x):\n",
    "        x = self.fc1(x)\n",
    "        x = torch.relu(x)\n",
    "        return self.fc2(x)"
   ]
  },
  {
   "cell_type": "markdown",
   "id": "28faf755",
   "metadata": {},
   "source": [
    "Since we are doing a model sweep:"
   ]
  },
  {
   "cell_type": "code",
   "execution_count": 15,
   "id": "876c4a92",
   "metadata": {},
   "outputs": [],
   "source": [
    "models = {\n",
    "    \"With LayerNorm\": MLPWithLN(),\n",
    "    \"Without LayerNorm\": MLPWithoutLN()\n",
    "}"
   ]
  },
  {
   "cell_type": "markdown",
   "id": "b3498245",
   "metadata": {},
   "source": [
    "I'll run the training loop."
   ]
  },
  {
   "cell_type": "code",
   "execution_count": 16,
   "id": "0ba38f78",
   "metadata": {},
   "outputs": [],
   "source": [
    "loss_fn = nn.MSELoss()\n",
    "histories = {}\n",
    "\n",
    "for name, model in models.items():\n",
    "    optimizer = torch.optim.Adam(model.parameters(), lr=0.01)\n",
    "    losses = []\n",
    "    for epoch in range(100):\n",
    "        y_pred = model(x)\n",
    "        loss = loss_fn(y_pred, y)\n",
    "        optimizer.zero_grad()\n",
    "        loss.backward()\n",
    "        optimizer.step()\n",
    "        losses.append(loss.item())\n",
    "    histories[name] = losses"
   ]
  },
  {
   "cell_type": "markdown",
   "id": "a2d617ad",
   "metadata": {},
   "source": [
    "I didn't add any logging metrics but let's take a look at the loss curves."
   ]
  },
  {
   "cell_type": "code",
   "execution_count": 17,
   "id": "d7381646",
   "metadata": {},
   "outputs": [
    {
     "data": {
      "image/png": "[encoded data removed]",
      "text/plain": [
       "<Figure size 640x480 with 1 Axes>"
      ]
     },
     "metadata": {},
     "output_type": "display_data"
    }
   ],
   "source": [
    "for name, losses in histories.items():\n",
    "    plt.plot(losses, label=name)\n",
    "plt.title(\"Training Loss\")\n",
    "plt.xlabel(\"Epoch\")\n",
    "plt.ylabel(\"MSE Loss\")\n",
    "plt.legend()\n",
    "plt.grid()\n",
    "plt.show()"
   ]
  },
  {
   "cell_type": "markdown",
   "id": "241b99e7",
   "metadata": {},
   "source": [
    "We can see that we have an improvement, nothing *huge* but still it's pretty visible that LayerNorm is helping. The real benefit is in real world situations when our data is even noisier than the toy data I generated and we have many layers stacked (like in transformers)."
   ]
  }
 ],
 "metadata": {
  "kernelspec": {
   "display_name": ".venv",
   "language": "python",
   "name": "python3"
  },
  "language_info": {
   "codemirror_mode": {
    "name": "ipython",
    "version": 3
   },
   "file_extension": ".py",
   "mimetype": "text/x-python",
   "name": "python",
   "nbconvert_exporter": "python",
   "pygments_lexer": "ipython3",
   "version": "3.13.2"
  }
 },
 "nbformat": 4,
 "nbformat_minor": 5
}
